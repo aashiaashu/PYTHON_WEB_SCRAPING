{
 "cells": [
  {
   "cell_type": "code",
   "execution_count": 1,
   "id": "9255946b",
   "metadata": {},
   "outputs": [],
   "source": [
    "import requests\n",
    "from bs4 import BeautifulSoup\n",
    "import pandas as pd"
   ]
  },
  {
   "cell_type": "code",
   "execution_count": 2,
   "id": "81a36f7b",
   "metadata": {},
   "outputs": [],
   "source": [
    "url='https://www.flipkart.com/search?q=mi%20phones&otracker=search&otracker1=search&marketplace=FLIPKART&as-show=on&as=off'"
   ]
  },
  {
   "cell_type": "code",
   "execution_count": 3,
   "id": "51884943",
   "metadata": {},
   "outputs": [],
   "source": [
    "req=requests.get(url)\n",
    "content=BeautifulSoup(req.content,'html.parser')"
   ]
  },
  {
   "cell_type": "code",
   "execution_count": 5,
   "id": "3ea1d21e",
   "metadata": {
    "scrolled": true
   },
   "outputs": [],
   "source": [
    "data=content.find_all('div',{'class':'_2kHMtA'})"
   ]
  },
  {
   "cell_type": "code",
   "execution_count": 7,
   "id": "b4108abe",
   "metadata": {},
   "outputs": [],
   "source": [
    "links=[]\n",
    "phn_name=[]\n",
    "start_link=\"https://www.flipkart.com\""
   ]
  },
  {
   "cell_type": "code",
   "execution_count": 13,
   "id": "a8436c39",
   "metadata": {},
   "outputs": [],
   "source": [
    "for items in data:\n",
    "    rest_link=items.find('a')['href']\n",
    "    name=items.find('div',attrs={'class':'_4rR01T'})\n",
    "    phn_name.append(name.text)\n",
    "    links.append(start_link+rest_link)"
   ]
  },
  {
   "cell_type": "code",
   "execution_count": 19,
   "id": "18fe1157",
   "metadata": {},
   "outputs": [
    {
     "name": "stdout",
     "output_type": "stream",
     "text": [
      "Redmi 9A Sport (Metallic Blue, 32 GB)\n",
      "https://www.flipkart.com/redmi-9a-sport-metallic-blue-32-gb/p/itm53bc6ebfe147b?pid=MOBG7H8GFGZPYUFH&lid=LSTMOBG7H8GFGZPYUFHPPQLKS&marketplace=FLIPKART&q=mi+phones&store=tyy%2F4io&srno=s_1_1&otracker=search&otracker1=search&fm=organic&iid=04d0e236-7a31-45fc-ae59-0681ab64055e.MOBG7H8GFGZPYUFH.SEARCH&ppt=None&ppn=None&ssid=9adfr2fn9s0000001668174221210&qH=40e8c4c956c272fe\n"
     ]
    }
   ],
   "source": [
    "print(phn_name[24])\n",
    "print(links[24])"
   ]
  },
  {
   "cell_type": "code",
   "execution_count": 18,
   "id": "1eaf2b9a",
   "metadata": {},
   "outputs": [],
   "source": [
    "dataframe={'Phone_names':phn_name,'Links':links}\n",
    "Final_dataframe=pd.DataFrame(dataframe)"
   ]
  },
  {
   "cell_type": "code",
   "execution_count": 17,
   "id": "ff838a3d",
   "metadata": {},
   "outputs": [],
   "source": [
    "Final_dataframe.to_csv('fk_data_url.csv')"
   ]
  },
  {
   "cell_type": "code",
   "execution_count": null,
   "id": "35d6e6fc",
   "metadata": {},
   "outputs": [],
   "source": []
  },
  {
   "cell_type": "code",
   "execution_count": null,
   "id": "c4207455",
   "metadata": {},
   "outputs": [],
   "source": []
  }
 ],
 "metadata": {
  "kernelspec": {
   "display_name": "Python 3 (ipykernel)",
   "language": "python",
   "name": "python3"
  },
  "language_info": {
   "codemirror_mode": {
    "name": "ipython",
    "version": 3
   },
   "file_extension": ".py",
   "mimetype": "text/x-python",
   "name": "python",
   "nbconvert_exporter": "python",
   "pygments_lexer": "ipython3",
   "version": "3.9.12"
  }
 },
 "nbformat": 4,
 "nbformat_minor": 5
}
